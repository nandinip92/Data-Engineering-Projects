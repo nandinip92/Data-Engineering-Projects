{
 "cells": [
  {
   "cell_type": "code",
   "execution_count": 1,
   "metadata": {},
   "outputs": [],
   "source": [
    "%load_ext sql"
   ]
  },
  {
   "cell_type": "markdown",
   "metadata": {},
   "source": [
    "# Connecting to Redshift CLuster"
   ]
  },
  {
   "cell_type": "code",
   "execution_count": null,
   "metadata": {},
   "outputs": [],
   "source": [
    "import configparser\n",
    "config = configparser.ConfigParser()\n",
    "config.read_file(open('dwh.cfg'))\n",
    "(HOST,DB_NAME, DB_USER, DB_PASSWORD, DB_PORT) = config['CLUSTER'].values()\n",
    "\n",
    "conn_string=\"postgresql://{}:{}@{}:{}/{}\".format(DB_USER, DB_PASSWORD, HOST, DB_PORT,DB_NAME)\n",
    "print(conn_string)\n",
    "%sql $conn_string"
   ]
  },
  {
   "cell_type": "code",
   "execution_count": 3,
   "metadata": {},
   "outputs": [
    {
     "name": "stdout",
     "output_type": "stream",
     "text": [
      "'ST_Events' table created successfully...!!!\n",
      "'ST_Songs' table created successfully...!!!\n",
      "'users' table created successfully...!!!\n",
      "'songs' table created successfully...!!!\n",
      "'artists' table created successfully...!!!\n",
      "'time' table created successfully...!!!\n",
      "'songplays' table created successfully...!!!\n"
     ]
    }
   ],
   "source": [
    "%run create_tables.py"
   ]
  },
  {
   "cell_type": "code",
   "execution_count": 4,
   "metadata": {},
   "outputs": [
    {
     "name": "stdout",
     "output_type": "stream",
     "text": [
      "'ST_Events' COPY Successful...!!!\n",
      "'ST_Songs' COPY Successful...!!!\n",
      "'songplays'  Insert Successful...!!!\n",
      "'users'  Insert Successful...!!!\n",
      "'songs'  Insert Successful...!!!\n",
      "'artists'  Insert Successful...!!!\n",
      "'time'  Insert Successful...!!!\n",
      "Duplicate records for userIds : ('29', '36', '15', '88', '80', '16', '49', '85')\n",
      "... Deleting duplicates .....\n",
      "DELETE FROM users WHERE user_id IN ('29', '36', '15', '88', '80', '16', '49', '85')\n",
      "Inserted with the latest information for the updated users\n",
      "*************** ETL process completed ***************\n"
     ]
    }
   ],
   "source": [
    "%run etl.py"
   ]
  },
  {
   "cell_type": "markdown",
   "metadata": {},
   "source": [
    "# Check if all the tables are loaded"
   ]
  },
  {
   "cell_type": "code",
   "execution_count": null,
   "metadata": {},
   "outputs": [],
   "source": [
    "%%sql \n",
    "SELECT 'ST_EVENTS' as TABLE, COUNT(*) total_records from ST_Events \n",
    "UNION ALL\n",
    "SELECT 'ST_Songs', COUNT(*) from ST_Songs;"
   ]
  },
  {
   "cell_type": "code",
   "execution_count": null,
   "metadata": {},
   "outputs": [],
   "source": [
    "%%sql SELECT 'songplays' as table, COUNT(*) total_records from songplays\n",
    "    UNION ALL\n",
    "    SELECT 'users', COUNT(*) from users\n",
    "    UNION ALL\n",
    "    SELECT 'songs', COUNT(*)from songs\n",
    "    UNION ALL\n",
    "    SELECT 'artists', COUNT(*)from artists\n",
    "    UNION ALL\n",
    "    SELECT 'time', COUNT(*) from time"
   ]
  },
  {
   "cell_type": "markdown",
   "metadata": {},
   "source": [
    "### Query to check if there are any duplicate records for the same user"
   ]
  },
  {
   "cell_type": "code",
   "execution_count": null,
   "metadata": {},
   "outputs": [],
   "source": [
    "%sql select * from (SELECT user_id,count(*) c FROM users group by user_id ) where c>1;"
   ]
  },
  {
   "cell_type": "markdown",
   "metadata": {},
   "source": [
    "## Connecting with python"
   ]
  },
  {
   "cell_type": "code",
   "execution_count": 4,
   "metadata": {},
   "outputs": [
    {
     "data": {
      "text/plain": [
       "[(8056,)]"
      ]
     },
     "execution_count": 4,
     "metadata": {},
     "output_type": "execute_result"
    }
   ],
   "source": [
    "import psycopg2\n",
    "\n",
    "conn = psycopg2.connect(\"host={} dbname={} user={} password={} port={}\".format(*config['CLUSTER'].values()))\n",
    "cur = conn.cursor()\n",
    "\n",
    "# Number of rows in events staging table\n",
    "cur.execute(\"select count(*) from ST_Events\")\n",
    "cur.fetchall()"
   ]
  }
 ],
 "metadata": {
  "kernelspec": {
   "display_name": "Python 3",
   "language": "python",
   "name": "python3"
  },
  "language_info": {
   "codemirror_mode": {
    "name": "ipython",
    "version": 3
   },
   "file_extension": ".py",
   "mimetype": "text/x-python",
   "name": "python",
   "nbconvert_exporter": "python",
   "pygments_lexer": "ipython3",
   "version": "3.8.1"
  }
 },
 "nbformat": 4,
 "nbformat_minor": 4
}
